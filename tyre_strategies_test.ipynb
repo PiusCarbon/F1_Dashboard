{
 "cells": [
  {
   "cell_type": "code",
   "execution_count": 6,
   "metadata": {},
   "outputs": [],
   "source": [
    "import streamlit as st\n",
    "import numpy as np\n",
    "import pandas as pd\n",
    "import plotly.express as px\n",
    "import fastf1\n",
    "import os\n",
    "from fastf1 import plotting\n",
    "from matplotlib import pyplot as plt\n",
    "fastf1.Cache.enable_cache('fastf1_cache')  # optional but recommended\n",
    "results_path = os.path.join(os.getcwd(), \"results_cache\")"
   ]
  },
  {
   "cell_type": "code",
   "execution_count": 9,
   "metadata": {},
   "outputs": [
    {
     "name": "stderr",
     "output_type": "stream",
     "text": [
      "c:\\Users\\piuscarbon\\.conda\\envs\\F1\\lib\\site-packages\\fastf1\\events.py:275: FutureWarning: Getting `Event` objects (previously `Session`) through `get_session` has been deprecated.\n",
      "Use `fastf1.get_event` instead.\n",
      "  warnings.warn(\"Getting `Event` objects (previously `Session`) through \"\n"
     ]
    },
    {
     "ename": "AttributeError",
     "evalue": "'Event' object has no attribute 'load'",
     "output_type": "error",
     "traceback": [
      "\u001b[1;31m---------------------------------------------------------------------------\u001b[0m",
      "\u001b[1;31mAttributeError\u001b[0m                            Traceback (most recent call last)",
      "Cell \u001b[1;32mIn [9], line 2\u001b[0m\n\u001b[0;32m      1\u001b[0m race \u001b[38;5;241m=\u001b[39m fastf1\u001b[38;5;241m.\u001b[39mget_session(\u001b[38;5;241m2021\u001b[39m, \u001b[38;5;124m\"\u001b[39m\u001b[38;5;124mBahrain\u001b[39m\u001b[38;5;124m\"\u001b[39m \u001b[38;5;124m'\u001b[39m\u001b[38;5;124mR\u001b[39m\u001b[38;5;124m'\u001b[39m)\n\u001b[1;32m----> 2\u001b[0m race\u001b[38;5;241m.\u001b[39mload()\n\u001b[0;32m      3\u001b[0m results \u001b[38;5;241m=\u001b[39m race\u001b[38;5;241m.\u001b[39mresults\n\u001b[0;32m      4\u001b[0m \u001b[38;5;28mprint\u001b[39m(results\u001b[38;5;241m.\u001b[39mhead())\n",
      "File \u001b[1;32mc:\\Users\\piuscarbon\\.conda\\envs\\F1\\lib\\site-packages\\pandas\\core\\generic.py:5907\u001b[0m, in \u001b[0;36mNDFrame.__getattr__\u001b[1;34m(self, name)\u001b[0m\n\u001b[0;32m   5900\u001b[0m \u001b[39mif\u001b[39;00m (\n\u001b[0;32m   5901\u001b[0m     name \u001b[39mnot\u001b[39;00m \u001b[39min\u001b[39;00m \u001b[39mself\u001b[39m\u001b[39m.\u001b[39m_internal_names_set\n\u001b[0;32m   5902\u001b[0m     \u001b[39mand\u001b[39;00m name \u001b[39mnot\u001b[39;00m \u001b[39min\u001b[39;00m \u001b[39mself\u001b[39m\u001b[39m.\u001b[39m_metadata\n\u001b[0;32m   5903\u001b[0m     \u001b[39mand\u001b[39;00m name \u001b[39mnot\u001b[39;00m \u001b[39min\u001b[39;00m \u001b[39mself\u001b[39m\u001b[39m.\u001b[39m_accessors\n\u001b[0;32m   5904\u001b[0m     \u001b[39mand\u001b[39;00m \u001b[39mself\u001b[39m\u001b[39m.\u001b[39m_info_axis\u001b[39m.\u001b[39m_can_hold_identifiers_and_holds_name(name)\n\u001b[0;32m   5905\u001b[0m ):\n\u001b[0;32m   5906\u001b[0m     \u001b[39mreturn\u001b[39;00m \u001b[39mself\u001b[39m[name]\n\u001b[1;32m-> 5907\u001b[0m \u001b[39mreturn\u001b[39;00m \u001b[39mobject\u001b[39;49m\u001b[39m.\u001b[39;49m\u001b[39m__getattribute__\u001b[39;49m(\u001b[39mself\u001b[39;49m, name)\n",
      "\u001b[1;31mAttributeError\u001b[0m: 'Event' object has no attribute 'load'"
     ]
    }
   ],
   "source": [
    "race = fastf1.get_session(2021, \"Bahrain\" 'R')\n",
    "race.load()\n",
    "results = race.results\n",
    "print(results.head())"
   ]
  },
  {
   "cell_type": "code",
   "execution_count": 13,
   "metadata": {},
   "outputs": [],
   "source": [
    "session = fastf1.get_session(2021, 'Silverstone', 'Q')"
   ]
  },
  {
   "cell_type": "code",
   "execution_count": 15,
   "metadata": {},
   "outputs": [
    {
     "name": "stderr",
     "output_type": "stream",
     "text": [
      "2022-09-27 15:14:37.989 INFO    root: Loading data for British Grand Prix - Qualifying [v2.3.0]\n",
      "2022-09-27 15:14:37.994 INFO    root: No cached data found for driver_info. Loading data...\n",
      "2022-09-27 15:14:37.995 INFO    root: Fetching driver list...\n",
      "2022-09-27 15:14:38.614 INFO    root: Data has been written to cache!\n",
      "2022-09-27 15:14:39.321 INFO    root: No cached data found for timing_data. Loading data...\n",
      "2022-09-27 15:14:39.322 INFO    root: Fetching timing data...\n",
      "2022-09-27 15:14:40.473 INFO    root: Parsing timing data...\n",
      "2022-09-27 15:14:41.362 INFO    root: Data has been written to cache!\n",
      "2022-09-27 15:14:41.363 INFO    root: No cached data found for timing_app_data. Loading data...\n",
      "2022-09-27 15:14:41.364 INFO    root: Fetching timing app data...\n",
      "2022-09-27 15:14:41.994 INFO    root: Data has been written to cache!\n",
      "2022-09-27 15:14:41.995 INFO    root: Processing timing data...\n",
      "2022-09-27 15:14:42.001 INFO    root: No cached data found for session_status_data. Loading data...\n",
      "2022-09-27 15:14:42.002 INFO    root: Fetching session status data...\n",
      "2022-09-27 15:14:42.685 INFO    root: Data has been written to cache!\n",
      "2022-09-27 15:14:42.688 INFO    root: No cached data found for track_status_data. Loading data...\n",
      "2022-09-27 15:14:42.689 INFO    root: Fetching track status data...\n",
      "2022-09-27 15:14:43.711 INFO    root: Data has been written to cache!\n",
      "c:\\Users\\piuscarbon\\.conda\\envs\\F1\\lib\\site-packages\\fastf1\\core.py:1415: FutureWarning: In a future version, object-dtype columns with all-bool values will not be included in reductions with bool_only=True. Explicitly cast to bool dtype instead.\n",
      "  df = pd.concat([df, result], sort=False)\n",
      "c:\\Users\\piuscarbon\\.conda\\envs\\F1\\lib\\site-packages\\fastf1\\core.py:1415: FutureWarning: In a future version, object-dtype columns with all-bool values will not be included in reductions with bool_only=True. Explicitly cast to bool dtype instead.\n",
      "  df = pd.concat([df, result], sort=False)\n",
      "c:\\Users\\piuscarbon\\.conda\\envs\\F1\\lib\\site-packages\\fastf1\\core.py:1415: FutureWarning: In a future version, object-dtype columns with all-bool values will not be included in reductions with bool_only=True. Explicitly cast to bool dtype instead.\n",
      "  df = pd.concat([df, result], sort=False)\n",
      "c:\\Users\\piuscarbon\\.conda\\envs\\F1\\lib\\site-packages\\fastf1\\core.py:1415: FutureWarning: In a future version, object-dtype columns with all-bool values will not be included in reductions with bool_only=True. Explicitly cast to bool dtype instead.\n",
      "  df = pd.concat([df, result], sort=False)\n",
      "c:\\Users\\piuscarbon\\.conda\\envs\\F1\\lib\\site-packages\\fastf1\\core.py:1415: FutureWarning: In a future version, object-dtype columns with all-bool values will not be included in reductions with bool_only=True. Explicitly cast to bool dtype instead.\n",
      "  df = pd.concat([df, result], sort=False)\n",
      "c:\\Users\\piuscarbon\\.conda\\envs\\F1\\lib\\site-packages\\fastf1\\core.py:1415: FutureWarning: In a future version, object-dtype columns with all-bool values will not be included in reductions with bool_only=True. Explicitly cast to bool dtype instead.\n",
      "  df = pd.concat([df, result], sort=False)\n",
      "c:\\Users\\piuscarbon\\.conda\\envs\\F1\\lib\\site-packages\\fastf1\\core.py:1415: FutureWarning: In a future version, object-dtype columns with all-bool values will not be included in reductions with bool_only=True. Explicitly cast to bool dtype instead.\n",
      "  df = pd.concat([df, result], sort=False)\n",
      "c:\\Users\\piuscarbon\\.conda\\envs\\F1\\lib\\site-packages\\fastf1\\core.py:1415: FutureWarning: In a future version, object-dtype columns with all-bool values will not be included in reductions with bool_only=True. Explicitly cast to bool dtype instead.\n",
      "  df = pd.concat([df, result], sort=False)\n",
      "c:\\Users\\piuscarbon\\.conda\\envs\\F1\\lib\\site-packages\\fastf1\\core.py:1415: FutureWarning: In a future version, object-dtype columns with all-bool values will not be included in reductions with bool_only=True. Explicitly cast to bool dtype instead.\n",
      "  df = pd.concat([df, result], sort=False)\n",
      "c:\\Users\\piuscarbon\\.conda\\envs\\F1\\lib\\site-packages\\fastf1\\core.py:1492: FutureWarning: iteritems is deprecated and will be removed in a future version. Use .items instead.\n",
      "  for key, value in row.iteritems():\n",
      "c:\\Users\\piuscarbon\\.conda\\envs\\F1\\lib\\site-packages\\fastf1\\core.py:1415: FutureWarning: In a future version, object-dtype columns with all-bool values will not be included in reductions with bool_only=True. Explicitly cast to bool dtype instead.\n",
      "  df = pd.concat([df, result], sort=False)\n",
      "c:\\Users\\piuscarbon\\.conda\\envs\\F1\\lib\\site-packages\\fastf1\\core.py:1415: FutureWarning: In a future version, object-dtype columns with all-bool values will not be included in reductions with bool_only=True. Explicitly cast to bool dtype instead.\n",
      "  df = pd.concat([df, result], sort=False)\n",
      "c:\\Users\\piuscarbon\\.conda\\envs\\F1\\lib\\site-packages\\fastf1\\core.py:1415: FutureWarning: In a future version, object-dtype columns with all-bool values will not be included in reductions with bool_only=True. Explicitly cast to bool dtype instead.\n",
      "  df = pd.concat([df, result], sort=False)\n",
      "c:\\Users\\piuscarbon\\.conda\\envs\\F1\\lib\\site-packages\\fastf1\\core.py:1415: FutureWarning: In a future version, object-dtype columns with all-bool values will not be included in reductions with bool_only=True. Explicitly cast to bool dtype instead.\n",
      "  df = pd.concat([df, result], sort=False)\n",
      "c:\\Users\\piuscarbon\\.conda\\envs\\F1\\lib\\site-packages\\fastf1\\core.py:1415: FutureWarning: In a future version, object-dtype columns with all-bool values will not be included in reductions with bool_only=True. Explicitly cast to bool dtype instead.\n",
      "  df = pd.concat([df, result], sort=False)\n",
      "c:\\Users\\piuscarbon\\.conda\\envs\\F1\\lib\\site-packages\\fastf1\\core.py:1415: FutureWarning: In a future version, object-dtype columns with all-bool values will not be included in reductions with bool_only=True. Explicitly cast to bool dtype instead.\n",
      "  df = pd.concat([df, result], sort=False)\n",
      "c:\\Users\\piuscarbon\\.conda\\envs\\F1\\lib\\site-packages\\fastf1\\core.py:1415: FutureWarning: In a future version, object-dtype columns with all-bool values will not be included in reductions with bool_only=True. Explicitly cast to bool dtype instead.\n",
      "  df = pd.concat([df, result], sort=False)\n",
      "c:\\Users\\piuscarbon\\.conda\\envs\\F1\\lib\\site-packages\\fastf1\\core.py:1415: FutureWarning: In a future version, object-dtype columns with all-bool values will not be included in reductions with bool_only=True. Explicitly cast to bool dtype instead.\n",
      "  df = pd.concat([df, result], sort=False)\n",
      "c:\\Users\\piuscarbon\\.conda\\envs\\F1\\lib\\site-packages\\fastf1\\core.py:1415: FutureWarning: In a future version, object-dtype columns with all-bool values will not be included in reductions with bool_only=True. Explicitly cast to bool dtype instead.\n",
      "  df = pd.concat([df, result], sort=False)\n",
      "c:\\Users\\piuscarbon\\.conda\\envs\\F1\\lib\\site-packages\\fastf1\\core.py:1415: FutureWarning: In a future version, object-dtype columns with all-bool values will not be included in reductions with bool_only=True. Explicitly cast to bool dtype instead.\n",
      "  df = pd.concat([df, result], sort=False)\n",
      "2022-09-27 15:14:45.288 INFO    root: No cached data found for car_data. Loading data...\n",
      "2022-09-27 15:14:45.290 INFO    root: Fetching car data...\n",
      "2022-09-27 15:14:46.517 INFO    root: Parsing car data...\n",
      "2022-09-27 15:14:56.120 INFO    root: Data has been written to cache!\n",
      "2022-09-27 15:14:56.123 INFO    root: No cached data found for position_data. Loading data...\n",
      "2022-09-27 15:14:56.123 INFO    root: Fetching position data...\n",
      "2022-09-27 15:14:57.042 INFO    root: Parsing position data...\n",
      "2022-09-27 15:15:04.597 INFO    root: Data has been written to cache!\n",
      "2022-09-27 15:15:06.983 INFO    root: No cached data found for weather_data. Loading data...\n",
      "2022-09-27 15:15:06.986 INFO    root: Fetching weather data...\n",
      "2022-09-27 15:15:07.572 INFO    root: Data has been written to cache!\n",
      "2022-09-27 15:15:07.577 INFO    root: No cached data found for race_control_messages. Loading data...\n",
      "2022-09-27 15:15:07.578 INFO    root: Fetching race control messages...\n",
      "2022-09-27 15:15:08.297 INFO    root: Data has been written to cache!\n",
      "2022-09-27 15:15:08.301 INFO    root: Finished loading data for 20 drivers: ['44', '33', '77', '16', '11', '4', '3', '63', '55', '5', '14', '10', '31', '99', '18', '22', '7', '6', '47', '9']\n"
     ]
    }
   ],
   "source": [
    "session.load()"
   ]
  },
  {
   "cell_type": "code",
   "execution_count": 37,
   "metadata": {},
   "outputs": [],
   "source": [
    "race_df = session.laps\n",
    "\n",
    "race_df = race_df.sort_values([\"Driver\", \"LapNumber\"])\n",
    "drivers_list = list(race_df[\"Driver\"].unique())\n",
    "df = pd.DataFrame(np.zeros([len(drivers_list), race_df[\"LapNumber\"].max()+1]))\n",
    "\n",
    "for index, row in race_df.iterrows():\n",
    "    df.iloc[drivers_list.index(row[\"Driver\"]), row[\"LapNumber\"]] = row[\"Compound\"]\n"
   ]
  },
  {
   "cell_type": "code",
   "execution_count": 44,
   "metadata": {},
   "outputs": [
    {
     "data": {
      "application/vnd.plotly.v1+json": {
       "config": {
        "plotlyServerURL": "https://plot.ly"
       },
       "data": [
        {
         "hovertemplate": "Driver=ALO<br>LapNumber=%{x}<br>Compound=%{y}<extra></extra>",
         "legendgroup": "ALO",
         "line": {
          "color": "#636efa",
          "dash": "solid"
         },
         "marker": {
          "symbol": "circle"
         },
         "mode": "lines",
         "name": "ALO",
         "orientation": "h",
         "showlegend": true,
         "type": "scatter",
         "x": [
          1,
          2,
          3,
          4,
          5,
          6,
          7,
          8,
          9,
          10,
          11,
          12
         ],
         "xaxis": "x",
         "y": [
          "SOFT",
          "SOFT",
          "SOFT",
          "SOFT",
          "SOFT",
          "SOFT",
          "SOFT",
          "SOFT",
          "SOFT",
          "SOFT",
          "SOFT",
          "SOFT"
         ],
         "yaxis": "y"
        },
        {
         "hovertemplate": "Driver=BOT<br>LapNumber=%{x}<br>Compound=%{y}<extra></extra>",
         "legendgroup": "BOT",
         "line": {
          "color": "#EF553B",
          "dash": "solid"
         },
         "marker": {
          "symbol": "circle"
         },
         "mode": "lines",
         "name": "BOT",
         "orientation": "h",
         "showlegend": true,
         "type": "scatter",
         "x": [
          1,
          2,
          3,
          4,
          5,
          6,
          7,
          8,
          9,
          10,
          11,
          12,
          13,
          14,
          15,
          16,
          17,
          18,
          19,
          20,
          21,
          22
         ],
         "xaxis": "x",
         "y": [
          "SOFT",
          "SOFT",
          "SOFT",
          "SOFT",
          "SOFT",
          "SOFT",
          "SOFT",
          "SOFT",
          "SOFT",
          "SOFT",
          "SOFT",
          "SOFT",
          "SOFT",
          "SOFT",
          "SOFT",
          "SOFT",
          "SOFT",
          "SOFT",
          "SOFT",
          "SOFT",
          "SOFT",
          "SOFT"
         ],
         "yaxis": "y"
        },
        {
         "hovertemplate": "Driver=GAS<br>LapNumber=%{x}<br>Compound=%{y}<extra></extra>",
         "legendgroup": "GAS",
         "line": {
          "color": "#00cc96",
          "dash": "solid"
         },
         "marker": {
          "symbol": "circle"
         },
         "mode": "lines",
         "name": "GAS",
         "orientation": "h",
         "showlegend": true,
         "type": "scatter",
         "x": [
          1,
          2,
          3,
          4,
          5,
          6,
          7,
          8,
          9,
          10,
          11,
          12,
          13,
          14
         ],
         "xaxis": "x",
         "y": [
          "SOFT",
          "SOFT",
          "SOFT",
          "SOFT",
          "SOFT",
          "SOFT",
          "SOFT",
          "SOFT",
          "SOFT",
          "SOFT",
          "SOFT",
          "SOFT",
          "SOFT",
          "SOFT"
         ],
         "yaxis": "y"
        },
        {
         "hovertemplate": "Driver=GIO<br>LapNumber=%{x}<br>Compound=%{y}<extra></extra>",
         "legendgroup": "GIO",
         "line": {
          "color": "#ab63fa",
          "dash": "solid"
         },
         "marker": {
          "symbol": "circle"
         },
         "mode": "lines",
         "name": "GIO",
         "orientation": "h",
         "showlegend": true,
         "type": "scatter",
         "x": [
          1,
          2,
          3,
          4,
          5,
          6,
          7,
          8,
          9,
          10,
          11,
          12,
          13,
          14,
          15
         ],
         "xaxis": "x",
         "y": [
          "SOFT",
          "SOFT",
          "SOFT",
          "SOFT",
          "SOFT",
          "SOFT",
          "SOFT",
          "SOFT",
          "SOFT",
          "SOFT",
          "SOFT",
          "SOFT",
          "SOFT",
          "SOFT",
          "SOFT"
         ],
         "yaxis": "y"
        },
        {
         "hovertemplate": "Driver=HAM<br>LapNumber=%{x}<br>Compound=%{y}<extra></extra>",
         "legendgroup": "HAM",
         "line": {
          "color": "#FFA15A",
          "dash": "solid"
         },
         "marker": {
          "symbol": "circle"
         },
         "mode": "lines",
         "name": "HAM",
         "orientation": "h",
         "showlegend": true,
         "type": "scatter",
         "x": [
          1,
          2,
          3,
          4,
          5,
          6,
          7,
          8,
          9,
          10,
          11,
          12,
          13,
          14,
          15,
          16,
          17,
          18,
          19,
          20,
          21,
          22
         ],
         "xaxis": "x",
         "y": [
          "SOFT",
          "SOFT",
          "SOFT",
          "SOFT",
          "SOFT",
          "SOFT",
          "SOFT",
          "SOFT",
          "SOFT",
          "SOFT",
          "SOFT",
          "SOFT",
          "SOFT",
          "SOFT",
          "SOFT",
          "SOFT",
          "SOFT",
          "SOFT",
          "SOFT",
          "SOFT",
          "SOFT",
          "SOFT"
         ],
         "yaxis": "y"
        },
        {
         "hovertemplate": "Driver=LAT<br>LapNumber=%{x}<br>Compound=%{y}<extra></extra>",
         "legendgroup": "LAT",
         "line": {
          "color": "#19d3f3",
          "dash": "solid"
         },
         "marker": {
          "symbol": "circle"
         },
         "mode": "lines",
         "name": "LAT",
         "orientation": "h",
         "showlegend": true,
         "type": "scatter",
         "x": [
          1,
          2,
          3,
          4,
          5,
          6,
          7,
          8
         ],
         "xaxis": "x",
         "y": [
          "SOFT",
          "SOFT",
          "SOFT",
          "SOFT",
          "SOFT",
          "SOFT",
          "SOFT",
          "SOFT"
         ],
         "yaxis": "y"
        },
        {
         "hovertemplate": "Driver=LEC<br>LapNumber=%{x}<br>Compound=%{y}<extra></extra>",
         "legendgroup": "LEC",
         "line": {
          "color": "#FF6692",
          "dash": "solid"
         },
         "marker": {
          "symbol": "circle"
         },
         "mode": "lines",
         "name": "LEC",
         "orientation": "h",
         "showlegend": true,
         "type": "scatter",
         "x": [
          1,
          2,
          3,
          4,
          5,
          6,
          7,
          8,
          9,
          10,
          11,
          12,
          13,
          14,
          15,
          16,
          17,
          18,
          19,
          20
         ],
         "xaxis": "x",
         "y": [
          "SOFT",
          "SOFT",
          "SOFT",
          "SOFT",
          "SOFT",
          "SOFT",
          "SOFT",
          "SOFT",
          "SOFT",
          "SOFT",
          "SOFT",
          "SOFT",
          "SOFT",
          "SOFT",
          "SOFT",
          "SOFT",
          "SOFT",
          "SOFT",
          "SOFT",
          "SOFT"
         ],
         "yaxis": "y"
        },
        {
         "hovertemplate": "Driver=MAZ<br>LapNumber=%{x}<br>Compound=%{y}<extra></extra>",
         "legendgroup": "MAZ",
         "line": {
          "color": "#B6E880",
          "dash": "solid"
         },
         "marker": {
          "symbol": "circle"
         },
         "mode": "lines",
         "name": "MAZ",
         "orientation": "h",
         "showlegend": true,
         "type": "scatter",
         "x": [
          1,
          2,
          3,
          4,
          5,
          6,
          7,
          8,
          9
         ],
         "xaxis": "x",
         "y": [
          "SOFT",
          "SOFT",
          "SOFT",
          "SOFT",
          "SOFT",
          "SOFT",
          "SOFT",
          "SOFT",
          "SOFT"
         ],
         "yaxis": "y"
        },
        {
         "hovertemplate": "Driver=MSC<br>LapNumber=%{x}<br>Compound=%{y}<extra></extra>",
         "legendgroup": "MSC",
         "line": {
          "color": "#FF97FF",
          "dash": "solid"
         },
         "marker": {
          "symbol": "circle"
         },
         "mode": "lines",
         "name": "MSC",
         "orientation": "h",
         "showlegend": true,
         "type": "scatter",
         "x": [
          1,
          2,
          3,
          4,
          5,
          6,
          7,
          8,
          9,
          10
         ],
         "xaxis": "x",
         "y": [
          "SOFT",
          "SOFT",
          "SOFT",
          "SOFT",
          "SOFT",
          "SOFT",
          "SOFT",
          "SOFT",
          "SOFT",
          "SOFT"
         ],
         "yaxis": "y"
        },
        {
         "hovertemplate": "Driver=NOR<br>LapNumber=%{x}<br>Compound=%{y}<extra></extra>",
         "legendgroup": "NOR",
         "line": {
          "color": "#FECB52",
          "dash": "solid"
         },
         "marker": {
          "symbol": "circle"
         },
         "mode": "lines",
         "name": "NOR",
         "orientation": "h",
         "showlegend": true,
         "type": "scatter",
         "x": [
          1,
          2,
          3,
          4,
          5,
          6,
          7,
          8,
          9,
          10,
          11,
          12,
          13,
          14,
          15,
          16,
          17,
          18,
          19,
          20
         ],
         "xaxis": "x",
         "y": [
          "SOFT",
          "SOFT",
          "SOFT",
          "SOFT",
          "SOFT",
          "SOFT",
          "SOFT",
          "SOFT",
          "SOFT",
          "SOFT",
          "SOFT",
          "SOFT",
          "SOFT",
          "SOFT",
          "SOFT",
          "SOFT",
          "SOFT",
          "SOFT",
          "SOFT",
          "SOFT"
         ],
         "yaxis": "y"
        },
        {
         "hovertemplate": "Driver=OCO<br>LapNumber=%{x}<br>Compound=%{y}<extra></extra>",
         "legendgroup": "OCO",
         "line": {
          "color": "#636efa",
          "dash": "solid"
         },
         "marker": {
          "symbol": "circle"
         },
         "mode": "lines",
         "name": "OCO",
         "orientation": "h",
         "showlegend": true,
         "type": "scatter",
         "x": [
          1,
          2,
          3,
          4,
          5,
          6,
          7,
          8,
          9,
          10,
          11,
          12
         ],
         "xaxis": "x",
         "y": [
          "SOFT",
          "SOFT",
          "SOFT",
          "SOFT",
          "SOFT",
          "SOFT",
          "SOFT",
          "SOFT",
          "SOFT",
          "SOFT",
          "SOFT",
          "SOFT"
         ],
         "yaxis": "y"
        },
        {
         "hovertemplate": "Driver=PER<br>LapNumber=%{x}<br>Compound=%{y}<extra></extra>",
         "legendgroup": "PER",
         "line": {
          "color": "#EF553B",
          "dash": "solid"
         },
         "marker": {
          "symbol": "circle"
         },
         "mode": "lines",
         "name": "PER",
         "orientation": "h",
         "showlegend": true,
         "type": "scatter",
         "x": [
          1,
          2,
          3,
          4,
          5,
          6,
          7,
          8,
          9,
          10,
          11,
          12,
          13,
          14,
          15,
          16,
          17
         ],
         "xaxis": "x",
         "y": [
          "SOFT",
          "SOFT",
          "SOFT",
          "SOFT",
          "SOFT",
          "SOFT",
          "SOFT",
          "SOFT",
          "SOFT",
          "SOFT",
          "SOFT",
          "SOFT",
          "SOFT",
          "SOFT",
          "SOFT",
          "SOFT",
          "SOFT"
         ],
         "yaxis": "y"
        },
        {
         "hovertemplate": "Driver=RAI<br>LapNumber=%{x}<br>Compound=%{y}<extra></extra>",
         "legendgroup": "RAI",
         "line": {
          "color": "#00cc96",
          "dash": "solid"
         },
         "marker": {
          "symbol": "circle"
         },
         "mode": "lines",
         "name": "RAI",
         "orientation": "h",
         "showlegend": true,
         "type": "scatter",
         "x": [
          1,
          2,
          3,
          4,
          5,
          6,
          7,
          8,
          9
         ],
         "xaxis": "x",
         "y": [
          "SOFT",
          "SOFT",
          "SOFT",
          "SOFT",
          "SOFT",
          "SOFT",
          "SOFT",
          "SOFT",
          "SOFT"
         ],
         "yaxis": "y"
        },
        {
         "hovertemplate": "Driver=RIC<br>LapNumber=%{x}<br>Compound=%{y}<extra></extra>",
         "legendgroup": "RIC",
         "line": {
          "color": "#ab63fa",
          "dash": "solid"
         },
         "marker": {
          "symbol": "circle"
         },
         "mode": "lines",
         "name": "RIC",
         "orientation": "h",
         "showlegend": true,
         "type": "scatter",
         "x": [
          1,
          2,
          3,
          4,
          5,
          6,
          7,
          8,
          9,
          10,
          11,
          12,
          13,
          14,
          15,
          16,
          17,
          18,
          19,
          20,
          21,
          22
         ],
         "xaxis": "x",
         "y": [
          "SOFT",
          "SOFT",
          "SOFT",
          "SOFT",
          "SOFT",
          "SOFT",
          "SOFT",
          "SOFT",
          "SOFT",
          "SOFT",
          "SOFT",
          "SOFT",
          "SOFT",
          "SOFT",
          "SOFT",
          "SOFT",
          "SOFT",
          "SOFT",
          "SOFT",
          "SOFT",
          "SOFT",
          "SOFT"
         ],
         "yaxis": "y"
        },
        {
         "hovertemplate": "Driver=RUS<br>LapNumber=%{x}<br>Compound=%{y}<extra></extra>",
         "legendgroup": "RUS",
         "line": {
          "color": "#FFA15A",
          "dash": "solid"
         },
         "marker": {
          "symbol": "circle"
         },
         "mode": "lines",
         "name": "RUS",
         "orientation": "h",
         "showlegend": true,
         "type": "scatter",
         "x": [
          1,
          2,
          3,
          4,
          5,
          6,
          7,
          8,
          9,
          10,
          11,
          12,
          13,
          14,
          15,
          16,
          17
         ],
         "xaxis": "x",
         "y": [
          "SOFT",
          "SOFT",
          "SOFT",
          "SOFT",
          "SOFT",
          "SOFT",
          "SOFT",
          "SOFT",
          "SOFT",
          "SOFT",
          "SOFT",
          "SOFT",
          "SOFT",
          "SOFT",
          "SOFT",
          "SOFT",
          "SOFT"
         ],
         "yaxis": "y"
        },
        {
         "hovertemplate": "Driver=SAI<br>LapNumber=%{x}<br>Compound=%{y}<extra></extra>",
         "legendgroup": "SAI",
         "line": {
          "color": "#19d3f3",
          "dash": "solid"
         },
         "marker": {
          "symbol": "circle"
         },
         "mode": "lines",
         "name": "SAI",
         "orientation": "h",
         "showlegend": true,
         "type": "scatter",
         "x": [
          1,
          2,
          3,
          4,
          5,
          6,
          7,
          8,
          9,
          10,
          11,
          12,
          13,
          14,
          15,
          16,
          17,
          18,
          19,
          20,
          21
         ],
         "xaxis": "x",
         "y": [
          "SOFT",
          "SOFT",
          "SOFT",
          "SOFT",
          "SOFT",
          "SOFT",
          "SOFT",
          "SOFT",
          "SOFT",
          "SOFT",
          "SOFT",
          "SOFT",
          "SOFT",
          "SOFT",
          "SOFT",
          "SOFT",
          "SOFT",
          "SOFT",
          "SOFT",
          "SOFT",
          "SOFT"
         ],
         "yaxis": "y"
        },
        {
         "hovertemplate": "Driver=STR<br>LapNumber=%{x}<br>Compound=%{y}<extra></extra>",
         "legendgroup": "STR",
         "line": {
          "color": "#FF6692",
          "dash": "solid"
         },
         "marker": {
          "symbol": "circle"
         },
         "mode": "lines",
         "name": "STR",
         "orientation": "h",
         "showlegend": true,
         "type": "scatter",
         "x": [
          1,
          2,
          3,
          4,
          5,
          6,
          7,
          8,
          9,
          10,
          11,
          12
         ],
         "xaxis": "x",
         "y": [
          "SOFT",
          "SOFT",
          "SOFT",
          "SOFT",
          "SOFT",
          "SOFT",
          "SOFT",
          "SOFT",
          "SOFT",
          "SOFT",
          "SOFT",
          "SOFT"
         ],
         "yaxis": "y"
        },
        {
         "hovertemplate": "Driver=TSU<br>LapNumber=%{x}<br>Compound=%{y}<extra></extra>",
         "legendgroup": "TSU",
         "line": {
          "color": "#B6E880",
          "dash": "solid"
         },
         "marker": {
          "symbol": "circle"
         },
         "mode": "lines",
         "name": "TSU",
         "orientation": "h",
         "showlegend": true,
         "type": "scatter",
         "x": [
          1,
          2,
          3,
          4,
          5,
          6,
          7,
          8,
          9,
          10
         ],
         "xaxis": "x",
         "y": [
          "SOFT",
          "SOFT",
          "SOFT",
          "SOFT",
          "SOFT",
          "SOFT",
          "SOFT",
          "SOFT",
          "SOFT",
          "SOFT"
         ],
         "yaxis": "y"
        },
        {
         "hovertemplate": "Driver=VER<br>LapNumber=%{x}<br>Compound=%{y}<extra></extra>",
         "legendgroup": "VER",
         "line": {
          "color": "#FF97FF",
          "dash": "solid"
         },
         "marker": {
          "symbol": "circle"
         },
         "mode": "lines",
         "name": "VER",
         "orientation": "h",
         "showlegend": true,
         "type": "scatter",
         "x": [
          1,
          2,
          3,
          4,
          5,
          6,
          7,
          8,
          9,
          10,
          11,
          12,
          13,
          14,
          15
         ],
         "xaxis": "x",
         "y": [
          "SOFT",
          "SOFT",
          "SOFT",
          "SOFT",
          "SOFT",
          "SOFT",
          "SOFT",
          "SOFT",
          "SOFT",
          "SOFT",
          "SOFT",
          "SOFT",
          "SOFT",
          "SOFT",
          "SOFT"
         ],
         "yaxis": "y"
        },
        {
         "hovertemplate": "Driver=VET<br>LapNumber=%{x}<br>Compound=%{y}<extra></extra>",
         "legendgroup": "VET",
         "line": {
          "color": "#FECB52",
          "dash": "solid"
         },
         "marker": {
          "symbol": "circle"
         },
         "mode": "lines",
         "name": "VET",
         "orientation": "h",
         "showlegend": true,
         "type": "scatter",
         "x": [
          1,
          2,
          3,
          4,
          5,
          6,
          7,
          8,
          9,
          10,
          11,
          12,
          13,
          14,
          15
         ],
         "xaxis": "x",
         "y": [
          "SOFT",
          "SOFT",
          "SOFT",
          "SOFT",
          "SOFT",
          "SOFT",
          "SOFT",
          "SOFT",
          "SOFT",
          "SOFT",
          "SOFT",
          "SOFT",
          "SOFT",
          "SOFT",
          "SOFT"
         ],
         "yaxis": "y"
        }
       ],
       "layout": {
        "legend": {
         "title": {
          "text": "Driver"
         },
         "tracegroupgap": 0
        },
        "margin": {
         "t": 60
        },
        "template": {
         "data": {
          "bar": [
           {
            "error_x": {
             "color": "#2a3f5f"
            },
            "error_y": {
             "color": "#2a3f5f"
            },
            "marker": {
             "line": {
              "color": "#E5ECF6",
              "width": 0.5
             },
             "pattern": {
              "fillmode": "overlay",
              "size": 10,
              "solidity": 0.2
             }
            },
            "type": "bar"
           }
          ],
          "barpolar": [
           {
            "marker": {
             "line": {
              "color": "#E5ECF6",
              "width": 0.5
             },
             "pattern": {
              "fillmode": "overlay",
              "size": 10,
              "solidity": 0.2
             }
            },
            "type": "barpolar"
           }
          ],
          "carpet": [
           {
            "aaxis": {
             "endlinecolor": "#2a3f5f",
             "gridcolor": "white",
             "linecolor": "white",
             "minorgridcolor": "white",
             "startlinecolor": "#2a3f5f"
            },
            "baxis": {
             "endlinecolor": "#2a3f5f",
             "gridcolor": "white",
             "linecolor": "white",
             "minorgridcolor": "white",
             "startlinecolor": "#2a3f5f"
            },
            "type": "carpet"
           }
          ],
          "choropleth": [
           {
            "colorbar": {
             "outlinewidth": 0,
             "ticks": ""
            },
            "type": "choropleth"
           }
          ],
          "contour": [
           {
            "colorbar": {
             "outlinewidth": 0,
             "ticks": ""
            },
            "colorscale": [
             [
              0,
              "#0d0887"
             ],
             [
              0.1111111111111111,
              "#46039f"
             ],
             [
              0.2222222222222222,
              "#7201a8"
             ],
             [
              0.3333333333333333,
              "#9c179e"
             ],
             [
              0.4444444444444444,
              "#bd3786"
             ],
             [
              0.5555555555555556,
              "#d8576b"
             ],
             [
              0.6666666666666666,
              "#ed7953"
             ],
             [
              0.7777777777777778,
              "#fb9f3a"
             ],
             [
              0.8888888888888888,
              "#fdca26"
             ],
             [
              1,
              "#f0f921"
             ]
            ],
            "type": "contour"
           }
          ],
          "contourcarpet": [
           {
            "colorbar": {
             "outlinewidth": 0,
             "ticks": ""
            },
            "type": "contourcarpet"
           }
          ],
          "heatmap": [
           {
            "colorbar": {
             "outlinewidth": 0,
             "ticks": ""
            },
            "colorscale": [
             [
              0,
              "#0d0887"
             ],
             [
              0.1111111111111111,
              "#46039f"
             ],
             [
              0.2222222222222222,
              "#7201a8"
             ],
             [
              0.3333333333333333,
              "#9c179e"
             ],
             [
              0.4444444444444444,
              "#bd3786"
             ],
             [
              0.5555555555555556,
              "#d8576b"
             ],
             [
              0.6666666666666666,
              "#ed7953"
             ],
             [
              0.7777777777777778,
              "#fb9f3a"
             ],
             [
              0.8888888888888888,
              "#fdca26"
             ],
             [
              1,
              "#f0f921"
             ]
            ],
            "type": "heatmap"
           }
          ],
          "heatmapgl": [
           {
            "colorbar": {
             "outlinewidth": 0,
             "ticks": ""
            },
            "colorscale": [
             [
              0,
              "#0d0887"
             ],
             [
              0.1111111111111111,
              "#46039f"
             ],
             [
              0.2222222222222222,
              "#7201a8"
             ],
             [
              0.3333333333333333,
              "#9c179e"
             ],
             [
              0.4444444444444444,
              "#bd3786"
             ],
             [
              0.5555555555555556,
              "#d8576b"
             ],
             [
              0.6666666666666666,
              "#ed7953"
             ],
             [
              0.7777777777777778,
              "#fb9f3a"
             ],
             [
              0.8888888888888888,
              "#fdca26"
             ],
             [
              1,
              "#f0f921"
             ]
            ],
            "type": "heatmapgl"
           }
          ],
          "histogram": [
           {
            "marker": {
             "pattern": {
              "fillmode": "overlay",
              "size": 10,
              "solidity": 0.2
             }
            },
            "type": "histogram"
           }
          ],
          "histogram2d": [
           {
            "colorbar": {
             "outlinewidth": 0,
             "ticks": ""
            },
            "colorscale": [
             [
              0,
              "#0d0887"
             ],
             [
              0.1111111111111111,
              "#46039f"
             ],
             [
              0.2222222222222222,
              "#7201a8"
             ],
             [
              0.3333333333333333,
              "#9c179e"
             ],
             [
              0.4444444444444444,
              "#bd3786"
             ],
             [
              0.5555555555555556,
              "#d8576b"
             ],
             [
              0.6666666666666666,
              "#ed7953"
             ],
             [
              0.7777777777777778,
              "#fb9f3a"
             ],
             [
              0.8888888888888888,
              "#fdca26"
             ],
             [
              1,
              "#f0f921"
             ]
            ],
            "type": "histogram2d"
           }
          ],
          "histogram2dcontour": [
           {
            "colorbar": {
             "outlinewidth": 0,
             "ticks": ""
            },
            "colorscale": [
             [
              0,
              "#0d0887"
             ],
             [
              0.1111111111111111,
              "#46039f"
             ],
             [
              0.2222222222222222,
              "#7201a8"
             ],
             [
              0.3333333333333333,
              "#9c179e"
             ],
             [
              0.4444444444444444,
              "#bd3786"
             ],
             [
              0.5555555555555556,
              "#d8576b"
             ],
             [
              0.6666666666666666,
              "#ed7953"
             ],
             [
              0.7777777777777778,
              "#fb9f3a"
             ],
             [
              0.8888888888888888,
              "#fdca26"
             ],
             [
              1,
              "#f0f921"
             ]
            ],
            "type": "histogram2dcontour"
           }
          ],
          "mesh3d": [
           {
            "colorbar": {
             "outlinewidth": 0,
             "ticks": ""
            },
            "type": "mesh3d"
           }
          ],
          "parcoords": [
           {
            "line": {
             "colorbar": {
              "outlinewidth": 0,
              "ticks": ""
             }
            },
            "type": "parcoords"
           }
          ],
          "pie": [
           {
            "automargin": true,
            "type": "pie"
           }
          ],
          "scatter": [
           {
            "fillpattern": {
             "fillmode": "overlay",
             "size": 10,
             "solidity": 0.2
            },
            "type": "scatter"
           }
          ],
          "scatter3d": [
           {
            "line": {
             "colorbar": {
              "outlinewidth": 0,
              "ticks": ""
             }
            },
            "marker": {
             "colorbar": {
              "outlinewidth": 0,
              "ticks": ""
             }
            },
            "type": "scatter3d"
           }
          ],
          "scattercarpet": [
           {
            "marker": {
             "colorbar": {
              "outlinewidth": 0,
              "ticks": ""
             }
            },
            "type": "scattercarpet"
           }
          ],
          "scattergeo": [
           {
            "marker": {
             "colorbar": {
              "outlinewidth": 0,
              "ticks": ""
             }
            },
            "type": "scattergeo"
           }
          ],
          "scattergl": [
           {
            "marker": {
             "colorbar": {
              "outlinewidth": 0,
              "ticks": ""
             }
            },
            "type": "scattergl"
           }
          ],
          "scattermapbox": [
           {
            "marker": {
             "colorbar": {
              "outlinewidth": 0,
              "ticks": ""
             }
            },
            "type": "scattermapbox"
           }
          ],
          "scatterpolar": [
           {
            "marker": {
             "colorbar": {
              "outlinewidth": 0,
              "ticks": ""
             }
            },
            "type": "scatterpolar"
           }
          ],
          "scatterpolargl": [
           {
            "marker": {
             "colorbar": {
              "outlinewidth": 0,
              "ticks": ""
             }
            },
            "type": "scatterpolargl"
           }
          ],
          "scatterternary": [
           {
            "marker": {
             "colorbar": {
              "outlinewidth": 0,
              "ticks": ""
             }
            },
            "type": "scatterternary"
           }
          ],
          "surface": [
           {
            "colorbar": {
             "outlinewidth": 0,
             "ticks": ""
            },
            "colorscale": [
             [
              0,
              "#0d0887"
             ],
             [
              0.1111111111111111,
              "#46039f"
             ],
             [
              0.2222222222222222,
              "#7201a8"
             ],
             [
              0.3333333333333333,
              "#9c179e"
             ],
             [
              0.4444444444444444,
              "#bd3786"
             ],
             [
              0.5555555555555556,
              "#d8576b"
             ],
             [
              0.6666666666666666,
              "#ed7953"
             ],
             [
              0.7777777777777778,
              "#fb9f3a"
             ],
             [
              0.8888888888888888,
              "#fdca26"
             ],
             [
              1,
              "#f0f921"
             ]
            ],
            "type": "surface"
           }
          ],
          "table": [
           {
            "cells": {
             "fill": {
              "color": "#EBF0F8"
             },
             "line": {
              "color": "white"
             }
            },
            "header": {
             "fill": {
              "color": "#C8D4E3"
             },
             "line": {
              "color": "white"
             }
            },
            "type": "table"
           }
          ]
         },
         "layout": {
          "annotationdefaults": {
           "arrowcolor": "#2a3f5f",
           "arrowhead": 0,
           "arrowwidth": 1
          },
          "autotypenumbers": "strict",
          "coloraxis": {
           "colorbar": {
            "outlinewidth": 0,
            "ticks": ""
           }
          },
          "colorscale": {
           "diverging": [
            [
             0,
             "#8e0152"
            ],
            [
             0.1,
             "#c51b7d"
            ],
            [
             0.2,
             "#de77ae"
            ],
            [
             0.3,
             "#f1b6da"
            ],
            [
             0.4,
             "#fde0ef"
            ],
            [
             0.5,
             "#f7f7f7"
            ],
            [
             0.6,
             "#e6f5d0"
            ],
            [
             0.7,
             "#b8e186"
            ],
            [
             0.8,
             "#7fbc41"
            ],
            [
             0.9,
             "#4d9221"
            ],
            [
             1,
             "#276419"
            ]
           ],
           "sequential": [
            [
             0,
             "#0d0887"
            ],
            [
             0.1111111111111111,
             "#46039f"
            ],
            [
             0.2222222222222222,
             "#7201a8"
            ],
            [
             0.3333333333333333,
             "#9c179e"
            ],
            [
             0.4444444444444444,
             "#bd3786"
            ],
            [
             0.5555555555555556,
             "#d8576b"
            ],
            [
             0.6666666666666666,
             "#ed7953"
            ],
            [
             0.7777777777777778,
             "#fb9f3a"
            ],
            [
             0.8888888888888888,
             "#fdca26"
            ],
            [
             1,
             "#f0f921"
            ]
           ],
           "sequentialminus": [
            [
             0,
             "#0d0887"
            ],
            [
             0.1111111111111111,
             "#46039f"
            ],
            [
             0.2222222222222222,
             "#7201a8"
            ],
            [
             0.3333333333333333,
             "#9c179e"
            ],
            [
             0.4444444444444444,
             "#bd3786"
            ],
            [
             0.5555555555555556,
             "#d8576b"
            ],
            [
             0.6666666666666666,
             "#ed7953"
            ],
            [
             0.7777777777777778,
             "#fb9f3a"
            ],
            [
             0.8888888888888888,
             "#fdca26"
            ],
            [
             1,
             "#f0f921"
            ]
           ]
          },
          "colorway": [
           "#636efa",
           "#EF553B",
           "#00cc96",
           "#ab63fa",
           "#FFA15A",
           "#19d3f3",
           "#FF6692",
           "#B6E880",
           "#FF97FF",
           "#FECB52"
          ],
          "font": {
           "color": "#2a3f5f"
          },
          "geo": {
           "bgcolor": "white",
           "lakecolor": "white",
           "landcolor": "#E5ECF6",
           "showlakes": true,
           "showland": true,
           "subunitcolor": "white"
          },
          "hoverlabel": {
           "align": "left"
          },
          "hovermode": "closest",
          "mapbox": {
           "style": "light"
          },
          "paper_bgcolor": "white",
          "plot_bgcolor": "#E5ECF6",
          "polar": {
           "angularaxis": {
            "gridcolor": "white",
            "linecolor": "white",
            "ticks": ""
           },
           "bgcolor": "#E5ECF6",
           "radialaxis": {
            "gridcolor": "white",
            "linecolor": "white",
            "ticks": ""
           }
          },
          "scene": {
           "xaxis": {
            "backgroundcolor": "#E5ECF6",
            "gridcolor": "white",
            "gridwidth": 2,
            "linecolor": "white",
            "showbackground": true,
            "ticks": "",
            "zerolinecolor": "white"
           },
           "yaxis": {
            "backgroundcolor": "#E5ECF6",
            "gridcolor": "white",
            "gridwidth": 2,
            "linecolor": "white",
            "showbackground": true,
            "ticks": "",
            "zerolinecolor": "white"
           },
           "zaxis": {
            "backgroundcolor": "#E5ECF6",
            "gridcolor": "white",
            "gridwidth": 2,
            "linecolor": "white",
            "showbackground": true,
            "ticks": "",
            "zerolinecolor": "white"
           }
          },
          "shapedefaults": {
           "line": {
            "color": "#2a3f5f"
           }
          },
          "ternary": {
           "aaxis": {
            "gridcolor": "white",
            "linecolor": "white",
            "ticks": ""
           },
           "baxis": {
            "gridcolor": "white",
            "linecolor": "white",
            "ticks": ""
           },
           "bgcolor": "#E5ECF6",
           "caxis": {
            "gridcolor": "white",
            "linecolor": "white",
            "ticks": ""
           }
          },
          "title": {
           "x": 0.05
          },
          "xaxis": {
           "automargin": true,
           "gridcolor": "white",
           "linecolor": "white",
           "ticks": "",
           "title": {
            "standoff": 15
           },
           "zerolinecolor": "white",
           "zerolinewidth": 2
          },
          "yaxis": {
           "automargin": true,
           "gridcolor": "white",
           "linecolor": "white",
           "ticks": "",
           "title": {
            "standoff": 15
           },
           "zerolinecolor": "white",
           "zerolinewidth": 2
          }
         }
        },
        "xaxis": {
         "anchor": "y",
         "domain": [
          0,
          1
         ],
         "title": {
          "text": "LapNumber"
         }
        },
        "yaxis": {
         "anchor": "x",
         "domain": [
          0,
          1
         ],
         "title": {
          "text": "Compound"
         }
        }
       }
      }
     },
     "metadata": {},
     "output_type": "display_data"
    }
   ],
   "source": [
    "px.line(race_df, x=\"LapNumber\", y=\"Compound\", color=\"Driver\")"
   ]
  },
  {
   "cell_type": "code",
   "execution_count": 22,
   "metadata": {},
   "outputs": [
    {
     "data": {
      "text/plain": [
       "[<matplotlib.lines.Line2D at 0x20212bdee60>]"
      ]
     },
     "execution_count": 22,
     "metadata": {},
     "output_type": "execute_result"
    },
    {
     "data": {
      "image/png": "[encoded data removed]",
      "text/plain": [
       "<Figure size 640x480 with 1 Axes>"
      ]
     },
     "metadata": {},
     "output_type": "display_data"
    }
   ],
   "source": [
    "plt.plot(np.linspace(0, len(session.car_data[\"44\"])-1, len(session.car_data[\"44\"])), session.car_data[\"44\"][\"Speed\"])"
   ]
  },
  {
   "cell_type": "code",
   "execution_count": 31,
   "metadata": {},
   "outputs": [
    {
     "name": "stderr",
     "output_type": "stream",
     "text": [
      "c:\\Users\\piuscarbon\\.conda\\envs\\F1\\lib\\site-packages\\fastf1\\core.py:378: FutureWarning: In a future version, `df.iloc[:, i] = newvals` will attempt to set the values inplace instead of always setting a new array. To retain the old behavior, use either `df[df.columns[i]] = newvals` or, if columns are non-unique, `df.isetitem(i, newvals)`\n",
      "  data_slice.loc[:, 'Time'] = data_slice['SessionTime'] - start_time\n"
     ]
    },
    {
     "data": {
      "text/html": [
       "<div>\n",
       "<style scoped>\n",
       "    .dataframe tbody tr th:only-of-type {\n",
       "        vertical-align: middle;\n",
       "    }\n",
       "\n",
       "    .dataframe tbody tr th {\n",
       "        vertical-align: top;\n",
       "    }\n",
       "\n",
       "    .dataframe thead th {\n",
       "        text-align: right;\n",
       "    }\n",
       "</style>\n",
       "<table border=\"1\" class=\"dataframe\">\n",
       "  <thead>\n",
       "    <tr style=\"text-align: right;\">\n",
       "      <th></th>\n",
       "      <th>Date</th>\n",
       "      <th>Status</th>\n",
       "      <th>X</th>\n",
       "      <th>Y</th>\n",
       "      <th>Z</th>\n",
       "      <th>Source</th>\n",
       "      <th>Time</th>\n",
       "      <th>SessionTime</th>\n",
       "    </tr>\n",
       "  </thead>\n",
       "  <tbody>\n",
       "    <tr>\n",
       "      <th>0</th>\n",
       "      <td>2021-07-16 17:03:36.004</td>\n",
       "      <td>OnTrack</td>\n",
       "      <td>577</td>\n",
       "      <td>4026</td>\n",
       "      <td>0</td>\n",
       "      <td>pos</td>\n",
       "      <td>0 days 00:00:00.025000</td>\n",
       "      <td>0 days 00:17:49.312000</td>\n",
       "    </tr>\n",
       "    <tr>\n",
       "      <th>1</th>\n",
       "      <td>2021-07-16 17:03:36.224</td>\n",
       "      <td>OnTrack</td>\n",
       "      <td>616</td>\n",
       "      <td>4054</td>\n",
       "      <td>0</td>\n",
       "      <td>pos</td>\n",
       "      <td>0 days 00:00:00.245000</td>\n",
       "      <td>0 days 00:17:49.532000</td>\n",
       "    </tr>\n",
       "    <tr>\n",
       "      <th>2</th>\n",
       "      <td>2021-07-16 17:03:36.444</td>\n",
       "      <td>OnTrack</td>\n",
       "      <td>657</td>\n",
       "      <td>4080</td>\n",
       "      <td>0</td>\n",
       "      <td>pos</td>\n",
       "      <td>0 days 00:00:00.465000</td>\n",
       "      <td>0 days 00:17:49.752000</td>\n",
       "    </tr>\n",
       "    <tr>\n",
       "      <th>3</th>\n",
       "      <td>2021-07-16 17:03:36.664</td>\n",
       "      <td>OnTrack</td>\n",
       "      <td>701</td>\n",
       "      <td>4101</td>\n",
       "      <td>0</td>\n",
       "      <td>pos</td>\n",
       "      <td>0 days 00:00:00.685000</td>\n",
       "      <td>0 days 00:17:49.972000</td>\n",
       "    </tr>\n",
       "    <tr>\n",
       "      <th>4</th>\n",
       "      <td>2021-07-16 17:03:36.865</td>\n",
       "      <td>OnTrack</td>\n",
       "      <td>742</td>\n",
       "      <td>4117</td>\n",
       "      <td>0</td>\n",
       "      <td>pos</td>\n",
       "      <td>0 days 00:00:00.886000</td>\n",
       "      <td>0 days 00:17:50.173000</td>\n",
       "    </tr>\n",
       "    <tr>\n",
       "      <th>...</th>\n",
       "      <td>...</td>\n",
       "      <td>...</td>\n",
       "      <td>...</td>\n",
       "      <td>...</td>\n",
       "      <td>...</td>\n",
       "      <td>...</td>\n",
       "      <td>...</td>\n",
       "      <td>...</td>\n",
       "    </tr>\n",
       "    <tr>\n",
       "      <th>16120</th>\n",
       "      <td>2021-07-16 18:02:31.805</td>\n",
       "      <td>OnTrack</td>\n",
       "      <td>-1896</td>\n",
       "      <td>1019</td>\n",
       "      <td>1963</td>\n",
       "      <td>pos</td>\n",
       "      <td>0 days 00:58:55.826000</td>\n",
       "      <td>0 days 01:16:45.113000</td>\n",
       "    </tr>\n",
       "    <tr>\n",
       "      <th>16121</th>\n",
       "      <td>2021-07-16 18:02:32.025</td>\n",
       "      <td>OnTrack</td>\n",
       "      <td>-1882</td>\n",
       "      <td>1039</td>\n",
       "      <td>1963</td>\n",
       "      <td>pos</td>\n",
       "      <td>0 days 00:58:56.046000</td>\n",
       "      <td>0 days 01:16:45.333000</td>\n",
       "    </tr>\n",
       "    <tr>\n",
       "      <th>16122</th>\n",
       "      <td>2021-07-16 18:02:32.245</td>\n",
       "      <td>OnTrack</td>\n",
       "      <td>-1868</td>\n",
       "      <td>1058</td>\n",
       "      <td>1963</td>\n",
       "      <td>pos</td>\n",
       "      <td>0 days 00:58:56.266000</td>\n",
       "      <td>0 days 01:16:45.553000</td>\n",
       "    </tr>\n",
       "    <tr>\n",
       "      <th>16123</th>\n",
       "      <td>2021-07-16 18:02:32.465</td>\n",
       "      <td>OnTrack</td>\n",
       "      <td>-1858</td>\n",
       "      <td>1068</td>\n",
       "      <td>1963</td>\n",
       "      <td>pos</td>\n",
       "      <td>0 days 00:58:56.486000</td>\n",
       "      <td>0 days 01:16:45.773000</td>\n",
       "    </tr>\n",
       "    <tr>\n",
       "      <th>16124</th>\n",
       "      <td>2021-07-16 18:02:32.685</td>\n",
       "      <td>OnTrack</td>\n",
       "      <td>-1842</td>\n",
       "      <td>1093</td>\n",
       "      <td>1963</td>\n",
       "      <td>pos</td>\n",
       "      <td>0 days 00:58:56.706000</td>\n",
       "      <td>0 days 01:16:45.993000</td>\n",
       "    </tr>\n",
       "  </tbody>\n",
       "</table>\n",
       "<p>16125 rows × 8 columns</p>\n",
       "</div>"
      ],
      "text/plain": [
       "                         Date   Status     X     Y     Z Source  \\\n",
       "0     2021-07-16 17:03:36.004  OnTrack   577  4026     0    pos   \n",
       "1     2021-07-16 17:03:36.224  OnTrack   616  4054     0    pos   \n",
       "2     2021-07-16 17:03:36.444  OnTrack   657  4080     0    pos   \n",
       "3     2021-07-16 17:03:36.664  OnTrack   701  4101     0    pos   \n",
       "4     2021-07-16 17:03:36.865  OnTrack   742  4117     0    pos   \n",
       "...                       ...      ...   ...   ...   ...    ...   \n",
       "16120 2021-07-16 18:02:31.805  OnTrack -1896  1019  1963    pos   \n",
       "16121 2021-07-16 18:02:32.025  OnTrack -1882  1039  1963    pos   \n",
       "16122 2021-07-16 18:02:32.245  OnTrack -1868  1058  1963    pos   \n",
       "16123 2021-07-16 18:02:32.465  OnTrack -1858  1068  1963    pos   \n",
       "16124 2021-07-16 18:02:32.685  OnTrack -1842  1093  1963    pos   \n",
       "\n",
       "                        Time            SessionTime  \n",
       "0     0 days 00:00:00.025000 0 days 00:17:49.312000  \n",
       "1     0 days 00:00:00.245000 0 days 00:17:49.532000  \n",
       "2     0 days 00:00:00.465000 0 days 00:17:49.752000  \n",
       "3     0 days 00:00:00.685000 0 days 00:17:49.972000  \n",
       "4     0 days 00:00:00.886000 0 days 00:17:50.173000  \n",
       "...                      ...                    ...  \n",
       "16120 0 days 00:58:55.826000 0 days 01:16:45.113000  \n",
       "16121 0 days 00:58:56.046000 0 days 01:16:45.333000  \n",
       "16122 0 days 00:58:56.266000 0 days 01:16:45.553000  \n",
       "16123 0 days 00:58:56.486000 0 days 01:16:45.773000  \n",
       "16124 0 days 00:58:56.706000 0 days 01:16:45.993000  \n",
       "\n",
       "[16125 rows x 8 columns]"
      ]
     },
     "execution_count": 31,
     "metadata": {},
     "output_type": "execute_result"
    }
   ],
   "source": [
    "session.laps.pick_driver(\"44\").get_pos_data()"
   ]
  },
  {
   "cell_type": "code",
   "execution_count": 28,
   "metadata": {},
   "outputs": [],
   "source": [
    "ham = session.pos_data[\"44\"]\n",
    "ver = session.pos_data[\"44\"]"
   ]
  },
  {
   "cell_type": "code",
   "execution_count": 26,
   "metadata": {},
   "outputs": [
    {
     "data": {
      "text/plain": [
       "<matplotlib.collections.PathCollection at 0x20218eb7fa0>"
      ]
     },
     "execution_count": 26,
     "metadata": {},
     "output_type": "execute_result"
    },
    {
     "data": {
      "image/png": "[encoded data removed]",
      "text/plain": [
       "<Figure size 640x480 with 1 Axes>"
      ]
     },
     "metadata": {},
     "output_type": "display_data"
    }
   ],
   "source": [
    "plt.scatter(ham[\"X\"], ham[\"Y\"])"
   ]
  },
  {
   "cell_type": "code",
   "execution_count": 29,
   "metadata": {},
   "outputs": [
    {
     "data": {
      "text/plain": [
       "<matplotlib.collections.PathCollection at 0x20218eb6ef0>"
      ]
     },
     "execution_count": 29,
     "metadata": {},
     "output_type": "execute_result"
    },
    {
     "data": {
      "image/png": "[encoded data removed]",
      "text/plain": [
       "<Figure size 640x480 with 1 Axes>"
      ]
     },
     "metadata": {},
     "output_type": "display_data"
    }
   ],
   "source": [
    "plt.scatter(ver[\"X\"], ver[\"Y\"])"
   ]
  }
 ],
 "metadata": {
  "kernelspec": {
   "display_name": "Python 3.10.6 ('F1')",
   "language": "python",
   "name": "python3"
  },
  "language_info": {
   "codemirror_mode": {
    "name": "ipython",
    "version": 3
   },
   "file_extension": ".py",
   "mimetype": "text/x-python",
   "name": "python",
   "nbconvert_exporter": "python",
   "pygments_lexer": "ipython3",
   "version": "3.10.6"
  },
  "orig_nbformat": 4,
  "vscode": {
   "interpreter": {
    "hash": "e9ca85c24dd17715b71916e619912db03c58b9190c385daf69f9a7538fab7ab5"
   }
  }
 },
 "nbformat": 4,
 "nbformat_minor": 2
}
